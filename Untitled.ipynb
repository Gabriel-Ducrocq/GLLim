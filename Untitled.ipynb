{
 "cells": [
  {
   "cell_type": "code",
   "execution_count": 139,
   "id": "5cc772fb",
   "metadata": {},
   "outputs": [],
   "source": [
    "import numpy as np\n",
    "import pyreadr\n",
    "import matplotlib.pyplot as plt"
   ]
  },
  {
   "cell_type": "code",
   "execution_count": 193,
   "id": "b912a742",
   "metadata": {},
   "outputs": [],
   "source": [
    "COSMO_PARAMS_MEAN_PRIOR = np.array([0.9665, 0.02242, 0.11933, 1.04101, 3.047, 0.0561]) # Prior mean\n",
    "COSMO_PARAMS_SIGMA_PRIOR = np.array([0.0038, 0.00014, 0.00091, 0.00029, 0.014, 0.0071]) "
   ]
  },
  {
   "cell_type": "code",
   "execution_count": 276,
   "id": "d3e7a595",
   "metadata": {},
   "outputs": [],
   "source": [
    "def compute_W2(ind1, all_mu1, all_sigmas1, sigma2, chol2, mu2, argmaxes):\n",
    "    mode_index1 = argmaxes[ind1]\n",
    "    sigma1 = all_sigmas1[:, :, mode_index1]\n",
    "    mu1 = all_mu1[:, ind1]\n",
    "    chol1 = np.linalg.cholesky(sigma1)\n",
    "    return np.sum((mu1 - mu2)**2) + np.trace(sigma1 + sigma2 - 2*np.linalg.cholesky(np.matmul(np.matmul(chol1, sigma2), chol1.T)))"
   ]
  },
  {
   "cell_type": "code",
   "execution_count": 281,
   "id": "2b5a565a",
   "metadata": {},
   "outputs": [],
   "source": [
    "all_means = np.load(\"all_means.npy\")\n",
    "all_weights = np.load(\"all_weights.npy\")\n",
    "all_sigma = []\n",
    "for i in range(1,21):\n",
    "    path = \"all_sigma_\" + str(i) + \".npy\"\n",
    "    sigma_star = np.load(path)\n",
    "    all_sigma.append(sigma_star)\n",
    "    \n",
    "all_sigma_star = np.stack(all_sigma, axis=2)"
   ]
  },
  {
   "cell_type": "code",
   "execution_count": 306,
   "id": "3b1c8284",
   "metadata": {},
   "outputs": [
    {
     "data": {
      "text/plain": [
       "0.0505"
      ]
     },
     "execution_count": 306,
     "metadata": {},
     "output_type": "execute_result"
    }
   ],
   "source": [
    "np.mean(np.sum(all_weights > 1e-5, axis=1) > 1)"
   ]
  },
  {
   "cell_type": "code",
   "execution_count": 311,
   "id": "f6f2a881",
   "metadata": {},
   "outputs": [],
   "source": [
    "multimode = np.sum(all_weights > 1e-1, axis=1) > 1"
   ]
  },
  {
   "cell_type": "code",
   "execution_count": 314,
   "id": "af7171cf",
   "metadata": {},
   "outputs": [
    {
     "data": {
      "text/plain": [
       "0.0097"
      ]
     },
     "execution_count": 314,
     "metadata": {},
     "output_type": "execute_result"
    }
   ],
   "source": [
    "np.mean(multimode)"
   ]
  },
  {
   "cell_type": "code",
   "execution_count": 313,
   "id": "33f93167",
   "metadata": {},
   "outputs": [
    {
     "data": {
      "text/plain": [
       "array([0.00000000e+000, 0.00000000e+000, 0.00000000e+000, 4.98191402e-001,\n",
       "       0.00000000e+000, 0.00000000e+000, 0.00000000e+000, 1.01791511e-076,\n",
       "       0.00000000e+000, 5.01808598e-001, 0.00000000e+000, 0.00000000e+000,\n",
       "       0.00000000e+000, 0.00000000e+000, 0.00000000e+000, 0.00000000e+000,\n",
       "       8.48852092e-174, 0.00000000e+000, 5.73483705e-027, 8.78065351e-264])"
      ]
     },
     "execution_count": 313,
     "metadata": {},
     "output_type": "execute_result"
    }
   ],
   "source": [
    "all_weights[multimode][0]"
   ]
  },
  {
   "cell_type": "code",
   "execution_count": 283,
   "id": "c9d1a610",
   "metadata": {},
   "outputs": [],
   "source": [
    "indexes1 = np.argmax(all_weights, axis=1)"
   ]
  },
  {
   "cell_type": "code",
   "execution_count": 284,
   "id": "ca207e7a",
   "metadata": {},
   "outputs": [],
   "source": [
    "sigma_true = all_sigma_star[:, :, indexes1[-1]]\n",
    "chol_true = np.linalg.cholesky(sigma_true)\n",
    "mu_true = all_means[:, indexes1[-1]]\n"
   ]
  },
  {
   "cell_type": "code",
   "execution_count": 285,
   "id": "697f21bf",
   "metadata": {},
   "outputs": [
    {
     "data": {
      "text/plain": [
       "(5, 10000)"
      ]
     },
     "execution_count": 285,
     "metadata": {},
     "output_type": "execute_result"
    }
   ],
   "source": [
    "np.unique(all_means, axis = 1).shape"
   ]
  },
  {
   "cell_type": "code",
   "execution_count": 286,
   "id": "905d5405",
   "metadata": {},
   "outputs": [
    {
     "name": "stdout",
     "output_type": "stream",
     "text": [
      "0.0\n",
      "0.010001000100010001\n",
      "0.020002000200020003\n",
      "0.030003000300030003\n",
      "0.040004000400040006\n",
      "0.05000500050005\n",
      "0.060006000600060005\n",
      "0.07000700070007\n",
      "0.08000800080008001\n",
      "0.09000900090009001\n",
      "0.1000100010001\n",
      "0.11001100110011001\n",
      "0.12001200120012001\n",
      "0.13001300130013002\n",
      "0.14001400140014\n",
      "0.15001500150015\n",
      "0.16001600160016002\n",
      "0.17001700170017\n",
      "0.18001800180018002\n",
      "0.19001900190019003\n",
      "0.2000200020002\n",
      "0.21002100210021002\n",
      "0.22002200220022003\n",
      "0.23002300230023\n",
      "0.24002400240024002\n",
      "0.25002500250025\n",
      "0.26002600260026004\n",
      "0.27002700270027\n",
      "0.28002800280028\n",
      "0.29002900290029004\n",
      "0.3000300030003\n",
      "0.31003100310031\n",
      "0.32003200320032005\n",
      "0.33003300330033003\n",
      "0.34003400340034\n",
      "0.35003500350035005\n",
      "0.36003600360036003\n",
      "0.37003700370037\n",
      "0.38003800380038005\n",
      "0.39003900390039004\n",
      "0.4000400040004\n",
      "0.41004100410041006\n",
      "0.42004200420042004\n",
      "0.43004300430043\n",
      "0.44004400440044006\n",
      "0.45004500450045004\n",
      "0.46004600460046\n",
      "0.47004700470047006\n",
      "0.48004800480048004\n",
      "0.49004900490049\n",
      "0.5000500050005\n",
      "0.51005100510051\n",
      "0.5200520052005201\n",
      "0.53005300530053\n",
      "0.54005400540054\n",
      "0.5500550055005501\n",
      "0.56005600560056\n",
      "0.57005700570057\n",
      "0.5800580058005801\n",
      "0.59005900590059\n",
      "0.6000600060006\n",
      "0.6100610061006101\n",
      "0.62006200620062\n",
      "0.6300630063006301\n",
      "0.6400640064006401\n",
      "0.65006500650065\n",
      "0.6600660066006601\n",
      "0.6700670067006701\n",
      "0.68006800680068\n",
      "0.6900690069006901\n",
      "0.7000700070007001\n",
      "0.71007100710071\n",
      "0.7200720072007201\n",
      "0.7300730073007301\n",
      "0.74007400740074\n",
      "0.7500750075007501\n",
      "0.7600760076007601\n",
      "0.77007700770077\n",
      "0.7800780078007801\n",
      "0.7900790079007901\n",
      "0.8000800080008\n",
      "0.8100810081008101\n",
      "0.8200820082008201\n",
      "0.83008300830083\n",
      "0.8400840084008401\n",
      "0.8500850085008501\n",
      "0.86008600860086\n",
      "0.8700870087008701\n",
      "0.8800880088008801\n",
      "0.89008900890089\n",
      "0.9000900090009001\n",
      "0.9100910091009101\n",
      "0.92009200920092\n",
      "0.9300930093009301\n",
      "0.9400940094009401\n",
      "0.95009500950095\n",
      "0.9600960096009601\n",
      "0.9700970097009701\n",
      "0.98009800980098\n",
      "0.9900990099009901\n"
     ]
    }
   ],
   "source": [
    "all_distances = []\n",
    "for i in range(0,10000):\n",
    "    if i% 100 == 0:\n",
    "        print(i/9999)\n",
    "        \n",
    "    all_distances.append(compute_W2(i, all_means, all_sigma_star, sigma_true, chol_true, mu_true, indexes1))"
   ]
  },
  {
   "cell_type": "code",
   "execution_count": 287,
   "id": "51595a0d",
   "metadata": {},
   "outputs": [],
   "source": [
    "all_theta = np.load(\"all_theta.npy\")"
   ]
  },
  {
   "cell_type": "code",
   "execution_count": 288,
   "id": "f54c04e5",
   "metadata": {},
   "outputs": [
    {
     "data": {
      "text/plain": [
       "(10000, 6)"
      ]
     },
     "execution_count": 288,
     "metadata": {},
     "output_type": "execute_result"
    }
   ],
   "source": [
    "all_theta.shape"
   ]
  },
  {
   "cell_type": "code",
   "execution_count": 289,
   "id": "710202dc",
   "metadata": {},
   "outputs": [],
   "source": [
    "ind = [i for i in range(0, 9999)]"
   ]
  },
  {
   "cell_type": "code",
   "execution_count": 290,
   "id": "d9091803",
   "metadata": {},
   "outputs": [],
   "source": [
    "l = list(zip(all_distances, ind))"
   ]
  },
  {
   "cell_type": "code",
   "execution_count": 291,
   "id": "f5584b81",
   "metadata": {},
   "outputs": [],
   "source": [
    "l.sort()"
   ]
  },
  {
   "cell_type": "code",
   "execution_count": 292,
   "id": "55a72c1b",
   "metadata": {},
   "outputs": [],
   "source": [
    "sorted_indexes = [ell[1] for ell in l]"
   ]
  },
  {
   "cell_type": "code",
   "execution_count": 293,
   "id": "442ef4ee",
   "metadata": {},
   "outputs": [],
   "source": [
    "indexes = sorted_indexes[:100]"
   ]
  },
  {
   "cell_type": "code",
   "execution_count": 294,
   "id": "f286d7ab",
   "metadata": {},
   "outputs": [],
   "source": [
    "all_theta_close = all_theta[indexes, :]"
   ]
  },
  {
   "cell_type": "code",
   "execution_count": 300,
   "id": "005f39c8",
   "metadata": {},
   "outputs": [
    {
     "data": {
      "image/png": "[encoded data removed]",
      "text/plain": [
       "<Figure size 640x480 with 1 Axes>"
      ]
     },
     "metadata": {},
     "output_type": "display_data"
    }
   ],
   "source": [
    "n = 4\n",
    "plt.hist(all_theta_close[:, n], alpha=0.5, density=True)\n",
    "plt.hist(all_theta[:, n], alpha=0.5, density=True)\n",
    "plt.axvline(all_theta[-1, n])\n",
    "plt.axvline(COSMO_PARAMS_MEAN_PRIOR[n], color=\"red\")\n",
    "plt.show()"
   ]
  },
  {
   "cell_type": "code",
   "execution_count": 266,
   "id": "0bfbe7c2",
   "metadata": {},
   "outputs": [
    {
     "data": {
      "text/plain": [
       "array([4.44270890e-03, 1.35878318e-04, 9.54622725e-04, 2.88453931e-04,\n",
       "       1.37730804e-02, 9.71445147e-17])"
      ]
     },
     "execution_count": 266,
     "metadata": {},
     "output_type": "execute_result"
    }
   ],
   "source": [
    "np.std(all_theta_close, axis=0)"
   ]
  },
  {
   "cell_type": "code",
   "execution_count": 267,
   "id": "5e2dcc39",
   "metadata": {},
   "outputs": [
    {
     "data": {
      "text/plain": [
       "array([0.0038 , 0.00014, 0.00091, 0.00029, 0.014  , 0.0071 ])"
      ]
     },
     "execution_count": 267,
     "metadata": {},
     "output_type": "execute_result"
    }
   ],
   "source": [
    "np.array([0.0038, 0.00014, 0.00091, 0.00029, 0.014, 0.0071]) "
   ]
  },
  {
   "cell_type": "code",
   "execution_count": 157,
   "id": "7f9e70fc",
   "metadata": {},
   "outputs": [
    {
     "data": {
      "text/plain": [
       "0.9716"
      ]
     },
     "execution_count": 157,
     "metadata": {},
     "output_type": "execute_result"
    }
   ],
   "source": [
    "np.mean(np.sum(all_weights > 1e-5, axis=1) == 1)"
   ]
  },
  {
   "cell_type": "code",
   "execution_count": 158,
   "id": "be6ce6ac",
   "metadata": {},
   "outputs": [
    {
     "data": {
      "text/plain": [
       "200.0"
      ]
     },
     "execution_count": 158,
     "metadata": {},
     "output_type": "execute_result"
    }
   ],
   "source": [
    "0.02*10000"
   ]
  },
  {
   "cell_type": "code",
   "execution_count": 227,
   "id": "ac05aacd",
   "metadata": {},
   "outputs": [
    {
     "ename": "ValueError",
     "evalue": "operands could not be broadcast together with shapes (10000,5) (10000,) ",
     "output_type": "error",
     "traceback": [
      "\u001b[0;31m---------------------------------------------------------------------------\u001b[0m",
      "\u001b[0;31mValueError\u001b[0m                                Traceback (most recent call last)",
      "Cell \u001b[0;32mIn [227], line 1\u001b[0m\n\u001b[0;32m----> 1\u001b[0m dist_theta \u001b[38;5;241m=\u001b[39m np\u001b[38;5;241m.\u001b[39msum((\u001b[43mall_theta\u001b[49m\u001b[43m[\u001b[49m\u001b[43m:\u001b[49m\u001b[43m,\u001b[49m\u001b[43m \u001b[49m\u001b[43m:\u001b[49m\u001b[38;5;241;43m-\u001b[39;49m\u001b[38;5;241;43m1\u001b[39;49m\u001b[43m]\u001b[49m\u001b[43m \u001b[49m\u001b[38;5;241;43m-\u001b[39;49m\u001b[43m \u001b[49m\u001b[43mall_theta\u001b[49m\u001b[43m[\u001b[49m\u001b[43m:\u001b[49m\u001b[43m,\u001b[49m\u001b[43m \u001b[49m\u001b[38;5;241;43m-\u001b[39;49m\u001b[38;5;241;43m1\u001b[39;49m\u001b[43m]\u001b[49m)\u001b[38;5;241m*\u001b[39m\u001b[38;5;241m*\u001b[39m\u001b[38;5;241m2\u001b[39m, axis\u001b[38;5;241m=\u001b[39m\u001b[38;5;241m1\u001b[39m)\n",
      "\u001b[0;31mValueError\u001b[0m: operands could not be broadcast together with shapes (10000,5) (10000,) "
     ]
    }
   ],
   "source": [
    "dist_theta = np.sum((all_theta[:, :-1] - all_theta[:, -1])**2, axis=1)"
   ]
  },
  {
   "cell_type": "code",
   "execution_count": 268,
   "id": "b29546db",
   "metadata": {},
   "outputs": [
    {
     "data": {
      "text/plain": [
       "<matplotlib.collections.PathCollection at 0x7faaa1914b20>"
      ]
     },
     "execution_count": 268,
     "metadata": {},
     "output_type": "execute_result"
    },
    {
     "data": {
      "image/png": "[encoded data removed]",
      "text/plain": [
       "<Figure size 640x480 with 1 Axes>"
      ]
     },
     "metadata": {},
     "output_type": "display_data"
    }
   ],
   "source": [
    "plt.scatter(dist_theta, all_distances[:-1])"
   ]
  },
  {
   "cell_type": "code",
   "execution_count": 166,
   "id": "fd999c1c",
   "metadata": {},
   "outputs": [
    {
     "data": {
      "text/plain": [
       "(9999,)"
      ]
     },
     "execution_count": 166,
     "metadata": {},
     "output_type": "execute_result"
    }
   ],
   "source": [
    "dist_theta.shape"
   ]
  },
  {
   "cell_type": "code",
   "execution_count": 162,
   "id": "ae76ed00",
   "metadata": {},
   "outputs": [
    {
     "data": {
      "text/plain": [
       "10000"
      ]
     },
     "execution_count": 162,
     "metadata": {},
     "output_type": "execute_result"
    }
   ],
   "source": [
    "len(all_distances)"
   ]
  },
  {
   "cell_type": "code",
   "execution_count": 165,
   "id": "67c3ec0d",
   "metadata": {},
   "outputs": [
    {
     "data": {
      "text/plain": [
       "(10000, 6)"
      ]
     },
     "execution_count": 165,
     "metadata": {},
     "output_type": "execute_result"
    }
   ],
   "source": [
    "all_theta.shape"
   ]
  },
  {
   "cell_type": "code",
   "execution_count": 182,
   "id": "35e5003a",
   "metadata": {},
   "outputs": [
    {
     "data": {
      "text/plain": [
       "10000"
      ]
     },
     "execution_count": 182,
     "metadata": {},
     "output_type": "execute_result"
    }
   ],
   "source": [
    "len(np.unique(all_means[3, :]))"
   ]
  },
  {
   "cell_type": "code",
   "execution_count": 173,
   "id": "6ad65f56",
   "metadata": {},
   "outputs": [
    {
     "data": {
      "text/plain": [
       "(5, 10000)"
      ]
     },
     "execution_count": 173,
     "metadata": {},
     "output_type": "execute_result"
    }
   ],
   "source": [
    "all_means.shape"
   ]
  },
  {
   "cell_type": "code",
   "execution_count": 178,
   "id": "e736b0a2",
   "metadata": {},
   "outputs": [
    {
     "data": {
      "text/plain": [
       "array([0.00010898, 0.00602605, 0.00513814, ..., 0.00043032, 0.00169854,\n",
       "       0.00138389])"
      ]
     },
     "execution_count": 178,
     "metadata": {},
     "output_type": "execute_result"
    }
   ],
   "source": [
    "dist_theta"
   ]
  },
  {
   "cell_type": "code",
   "execution_count": null,
   "id": "09411625",
   "metadata": {},
   "outputs": [],
   "source": []
  }
 ],
 "metadata": {
  "kernelspec": {
   "display_name": "Python 3 (ipykernel)",
   "language": "python",
   "name": "python3"
  },
  "language_info": {
   "codemirror_mode": {
    "name": "ipython",
    "version": 3
   },
   "file_extension": ".py",
   "mimetype": "text/x-python",
   "name": "python",
   "nbconvert_exporter": "python",
   "pygments_lexer": "ipython3",
   "version": "3.10.4"
  }
 },
 "nbformat": 4,
 "nbformat_minor": 5
}
